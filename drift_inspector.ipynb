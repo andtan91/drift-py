{
 "cells": [
  {
   "cell_type": "code",
   "execution_count": null,
   "id": "a544ae3f-01bf-4696-a49d-01e9983232bd",
   "metadata": {},
   "outputs": [],
   "source": [
    "%reload_ext autoreload\n",
    "%autoreload 2\n",
    "\n",
    "from drift.ftx import ftx_trade_to_target_position, recent_ftx_trades\n",
    "from drift.drift import Drift, load_config, MARKET_INDEX_TO_PERP\n",
    "import pandas as pd\n",
    "import os\n",
    "pd.options.plotting.backend = \"plotly\""
   ]
  },
  {
   "cell_type": "code",
   "execution_count": null,
   "id": "5eb5e746-b79b-4372-ac3c-ba2fb58c6d16",
   "metadata": {},
   "outputs": [],
   "source": [
    "USER_AUTHORITY = load_config() # TODO: replace with user wallet public key\n",
    "USER_AUTHORITY"
   ]
  },
  {
   "cell_type": "code",
   "execution_count": null,
   "id": "458e7549-000d-4849-9405-7d3fc10fc2a6",
   "metadata": {},
   "outputs": [],
   "source": [
    "drift = Drift(USER_AUTHORITY)\n",
    "await drift.load()\n",
    "history_df = await drift.load_history_df()\n",
    "history_df.keys()"
   ]
  },
  {
   "cell_type": "code",
   "execution_count": null,
   "id": "96e0214c-f13c-4a99-b6bd-769a355e3f72",
   "metadata": {},
   "outputs": [],
   "source": [
    "drift.market_summary()"
   ]
  },
  {
   "cell_type": "markdown",
   "id": "9ec2977c-8efe-43d2-848c-1e9bfbfd4415",
   "metadata": {},
   "source": [
    "# trades"
   ]
  },
  {
   "cell_type": "code",
   "execution_count": null,
   "id": "e36dee21-6858-4fdc-a15c-62be56320fe9",
   "metadata": {},
   "outputs": [],
   "source": [
    "trdf = history_df['trade'].copy().sort_index()\n",
    "trdf['userAuthority'] = trdf['userAuthority'].astype(str)\n",
    "\n",
    "duration = (trdf['fee'].index[-1] - trdf['fee'].index[0])\n",
    "duration = duration.seconds/60/60\n",
    "\n",
    "for x in ['fee','quoteAssetAmount']:\n",
    "    trdf[x] /= 1e6\n",
    "    trdf[x] = trdf[x].round(2)\n",
    "for x in ['baseAssetAmount']:\n",
    "    trdf[x] /= 1e13\n",
    "for x in ['markPriceAfter','markPriceBefore','oraclePrice']:\n",
    "    trdf[x] /= 1e10\n",
    "    \n",
    "# show volume of traders in 1024 most recent trades\n",
    "toshow = trdf.groupby(['userAuthority', 'marketIndex'])\\\n",
    "[['baseAssetAmount','quoteAssetAmount','fee']].sum().sort_values('fee', ascending=False)\\\n",
    ".head(20)\n",
    "print(int(duration*100)/100, 'hours')\n",
    "# calculate interpolated daily fee spend\n",
    "toshow['dailyFeeRate'] = (toshow['fee']/duration * 24).round(2)\n",
    "toshow"
   ]
  },
  {
   "cell_type": "markdown",
   "id": "90ed1523-eab7-47fc-ae62-01931cf89cb2",
   "metadata": {},
   "source": [
    "# liquidations"
   ]
  },
  {
   "cell_type": "code",
   "execution_count": null,
   "id": "1e306807-0053-4b02-929e-74712375225f",
   "metadata": {},
   "outputs": [],
   "source": [
    "liqs = history_df['liquidation']\n",
    "liqs = liqs[(liqs['marginRatio']!=0)]\n",
    "liqs.columns\n",
    "# (liqs['feeToLiquidator']/1e6).resample('D').sum().plot(kind='bar')\n",
    "for col in ['totalCollateral', 'collateral','unrealizedPnl','feeToInsuranceFund','feeToLiquidator',\n",
    "            'liquidationFee','baseAssetValue','baseAssetValueClosed']:\n",
    "    liqs[col] /= 1e6\n",
    "    \n",
    "# liqs.sort_values('feeToLiquidator').to_csv(\"~/drift_liquidations_20211119.csv\")\n",
    "\n",
    "(liqs.loc['2021-11-18':])#['baseAssetValueClosed'])#.resample('1MIN').sum().plot()\n",
    "\n",
    "((liqs.loc['2021-11-18'])['marginRatio']/1e3).hist()\n",
    "\n",
    "(liqs['feeToInsuranceFund'].cumsum())#.plot()"
   ]
  },
  {
   "cell_type": "markdown",
   "id": "bc334418-bb72-4e97-9db9-825bd05412f2",
   "metadata": {},
   "source": [
    "# curve\n",
    "adjustments to k and repeg events"
   ]
  },
  {
   "cell_type": "code",
   "execution_count": null,
   "id": "8e373627-4ecc-40d7-bc40-54b11b8f62ef",
   "metadata": {},
   "outputs": [],
   "source": [
    "curvedffull = history_df['curve'].copy().sort_index()\n",
    "for marketIndex in curvedffull.marketIndex.unique():\n",
    "    curvedf = curvedffull[curvedffull.marketIndex == marketIndex]\n",
    "    print(curvedf.columns)\n",
    "    cdf = curvedf[['totalFee', 'totalFeeMinusDistributions','adjustmentCost']]/1e6\n",
    "    fig = cdf.plot(title=MARKET_INDEX_TO_PERP[marketIndex])\n",
    "    fig.show()"
   ]
  },
  {
   "cell_type": "markdown",
   "id": "dd9383ac-62c5-47c4-a859-e2f2ba3c7ff5",
   "metadata": {},
   "source": [
    "# deposits"
   ]
  },
  {
   "cell_type": "code",
   "execution_count": null,
   "id": "82ef89b7-77d3-44c5-b8bb-1aed2020a297",
   "metadata": {},
   "outputs": [],
   "source": [
    "deposits = history_df['deposit'].loc['2021':]\n",
    "d = deposits.direction[0]\n",
    "assert('deposit' in str(d).lower())\n",
    "deposit_ts = (deposits.apply(lambda x: x['amount']*-1 if x['direction']!=d else x['amount'],axis=1)/1e6)\n",
    "deposit_ts.sort_index().cumsum().plot()"
   ]
  },
  {
   "cell_type": "code",
   "execution_count": null,
   "id": "6199fe2e-5d4f-4415-8dcc-72b28501adbe",
   "metadata": {},
   "outputs": [],
   "source": [
    "tr = history_df['trade'].sort_index()\n",
    "tr[tr.userAuthority.astype(str)!=USER_AUTHORITY].sort_index()\n",
    "usrcheck = tr[tr.userAuthority.astype(str)==USER_AUTHORITY]\n",
    "d = usrcheck.direction.values[0]\n",
    "pos_ts = (usrcheck.apply(lambda x: x['baseAssetAmount']*-1 \n",
    "                         if x['direction']!=d else x['baseAssetAmount'],axis=1)/1e13)\n",
    "pos_ts.cumsum().plot()"
   ]
  },
  {
   "cell_type": "markdown",
   "id": "f82f90c9-8a01-47f6-a921-55780ad56637",
   "metadata": {},
   "source": [
    "# funding rate"
   ]
  },
  {
   "cell_type": "code",
   "execution_count": null,
   "id": "95944df0-356b-4f1a-be4f-4ee134acdc16",
   "metadata": {},
   "outputs": [],
   "source": [
    "import numpy as np\n",
    "frfull = history_df['fundingRate'].sort_index()"
   ]
  },
  {
   "cell_type": "code",
   "execution_count": null,
   "id": "e4232fed-13f0-4a87-b1f6-3caa510857e7",
   "metadata": {},
   "outputs": [],
   "source": [
    "for marketIndex in frfull.marketIndex.unique():\n",
    "    fr = frfull[frfull['marketIndex']==marketIndex]  \n",
    "    (fr[['oraclePriceTwap','markPriceTwap']]/1e10).replace(0,np.nan).dropna().plot()\n",
    "    fr_hand = (fr[['oraclePriceTwap','markPriceTwap']].diff(axis=1)/1e10).iloc[:,-1]\\\n",
    "    .replace(0,np.nan)/24\n",
    "    fr_prot = (fr[['cumulativeFundingRateLong', 'cumulativeFundingRateShort']]/1e14)\\\n",
    "    .replace(0,np.nan).diff()\n",
    "    dfplt = pd.concat([fr_hand, fr_prot],axis=1)\n",
    "    dfplt = (dfplt*100).mul(1/(fr['oraclePriceTwap']/1e10), axis=0).dropna().tail(7*24)\n",
    "    \n",
    "    dfplt = dfplt.rename({'cumulativeFundingRateLong':'long_funding_rate',\n",
    "                  'cumulativeFundingRateShort':'short_funding_rate',\n",
    "                  'markPriceTwap':'balanced_funding'\n",
    "                 },axis=1)\n",
    "    fig = dfplt.plot(title=MARKET_INDEX_TO_PERP[marketIndex]+' funding rate %')\n",
    "    fig.show()"
   ]
  },
  {
   "cell_type": "code",
   "execution_count": null,
   "id": "8f753178-856d-49d3-9f3b-92299574632a",
   "metadata": {},
   "outputs": [],
   "source": [
    "# ?dfplt.plot"
   ]
  },
  {
   "cell_type": "code",
   "execution_count": null,
   "id": "5590ea27-f923-4b8d-ae50-518029786f90",
   "metadata": {},
   "outputs": [],
   "source": [
    "mkt0 = drift.mkt_account.markets[0]\n",
    "arbJ_position = drift.bot_position.positions[0].baseAssetAmount/1e13\n",
    "total_position = (mkt0.baseAssetAmountLong - mkt0.baseAssetAmountShort)/1e13\n",
    "arbJ_position/total_position"
   ]
  },
  {
   "cell_type": "code",
   "execution_count": null,
   "id": "4819195e-c3fc-44ed-88e2-3bbc4f025a0d",
   "metadata": {},
   "outputs": [],
   "source": [
    "arbJ_position = drift.bot_position.positions[0].baseAssetAmount/1e13\n",
    "print(drift.base_asset_imbalance() - arbJ_position)\n",
    "drift.base_asset_imbalance(), arbJ_position"
   ]
  },
  {
   "cell_type": "code",
   "execution_count": null,
   "id": "18cbab27-eb23-4341-b443-f28b059a56a6",
   "metadata": {},
   "outputs": [],
   "source": [
    "users_df = pd.DataFrame([x['account']['data'] for x in drift.all_users])\n",
    "users_df['public_key'] = pd.Series([x['public_key'] for x in drift.all_users])\n",
    "\n",
    "users_df['Address'] = users_df['authority'].astype(str)\n",
    "for field in ['cumulativeDeposits', 'totalFeePaid', 'collateral', 'totalTokenDiscount']:\n",
    "    users_df[field] = (users_df[field]/1e6).round(2)\n",
    "user_summary_df = users_df[['Address', 'collateral', 'cumulativeDeposits', 'totalFeePaid']].sort_values('totalFeePaid',ascending=False)"
   ]
  },
  {
   "cell_type": "code",
   "execution_count": null,
   "id": "37c6b3db-4836-4e0f-89f0-b16dd193ee16",
   "metadata": {},
   "outputs": [],
   "source": [
    "user_summary_df[user_summary_df.Address == ('4CLaLrTr7juGATt6FAaw8JksSNGdTEGaA78otYJbdHDs')]"
   ]
  },
  {
   "cell_type": "code",
   "execution_count": null,
   "id": "4924fa69-d894-4b0c-814b-a531ae2a7435",
   "metadata": {},
   "outputs": [],
   "source": [
    "from drift.clearinghouse import ClearingHouseUser"
   ]
  },
  {
   "cell_type": "code",
   "execution_count": null,
   "id": "926d94a0-30c6-4d27-b22d-ee71cc92d1fe",
   "metadata": {},
   "outputs": [],
   "source": [
    "user = ClearingHouseUser(drift, USER_AUTHORITY)\n",
    "await user.positions()"
   ]
  },
  {
   "cell_type": "code",
   "execution_count": null,
   "id": "257458b1-a566-4b75-a248-26616e03b05a",
   "metadata": {},
   "outputs": [],
   "source": [
    "cc = (users_df[['totalFeePaid', 'cumulativeDeposits']]).sort_values('cumulativeDeposits').reset_index(drop=True)#.iloc[:-1]"
   ]
  },
  {
   "cell_type": "code",
   "execution_count": null,
   "id": "153741f1-f1be-463c-bdfb-fd93c17398bf",
   "metadata": {},
   "outputs": [],
   "source": [
    "cc.sum()"
   ]
  },
  {
   "cell_type": "code",
   "execution_count": null,
   "id": "89d1d758-3c6b-4b59-b726-207325d2c6d3",
   "metadata": {},
   "outputs": [],
   "source": [
    "(cc.iloc[:-1,]+1).pipe(np.log).plot(kind='bar')"
   ]
  },
  {
   "cell_type": "code",
   "execution_count": null,
   "id": "c724cdf0-0619-4db2-99ec-a1236faa5702",
   "metadata": {},
   "outputs": [],
   "source": []
  }
 ],
 "metadata": {
  "kernelspec": {
   "display_name": "Python 3 (ipykernel)",
   "language": "python",
   "name": "python3"
  },
  "language_info": {
   "codemirror_mode": {
    "name": "ipython",
    "version": 3
   },
   "file_extension": ".py",
   "mimetype": "text/x-python",
   "name": "python",
   "nbconvert_exporter": "python",
   "pygments_lexer": "ipython3",
   "version": "3.9.8"
  }
 },
 "nbformat": 4,
 "nbformat_minor": 5
}
