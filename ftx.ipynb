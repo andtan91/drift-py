{
 "cells": [
  {
   "cell_type": "code",
   "execution_count": null,
   "id": "08b29fee-6bc1-4472-8491-49678409fe65",
   "metadata": {},
   "outputs": [],
   "source": [
    "# ! pip3 install ccxt\n",
    "# ! pip3 install pandas\n",
    "# !pip3 install plotly"
   ]
  },
  {
   "cell_type": "code",
   "execution_count": null,
   "id": "65760dd4-555e-474d-8b5e-ef903a522fc3",
   "metadata": {
    "tags": []
   },
   "outputs": [],
   "source": [
    "# !pip3 install awscli\n",
    "# import awscli"
   ]
  },
  {
   "cell_type": "code",
   "execution_count": null,
   "id": "9f3c0c3c-09a1-49d9-9390-49564fbda08e",
   "metadata": {},
   "outputs": [],
   "source": [
    "import json\n",
    "import os\n",
    "FTX_SECRET_FF = os.path.expanduser('~/.ftx')\n",
    "# ftx_secret = {\n",
    "#     'apiKey' : '', \n",
    "#     'secret' : '', \n",
    "#     'headers': {\n",
    "#         'FTX-SUBACCOUNT' : ''\n",
    "#     }\n",
    "# }\n",
    "# with open('FTX_SECRET_FF', 'w') as f:\n",
    "#     json.dump(ftx_secret, f)\n",
    "    \n",
    "ftx_secret = None\n",
    "with open(FTX_SECRET_FF, 'r') as f:\n",
    "    ftx_secret = json.load(f)"
   ]
  },
  {
   "cell_type": "code",
   "execution_count": null,
   "id": "c75ed46e-6114-4019-b9be-15857b6e3588",
   "metadata": {},
   "outputs": [],
   "source": [
    "import ccxt\n",
    "import numpy as np\n",
    "import pandas as pd\n",
    "pd.options.plotting.backend = \"plotly\"\n",
    "\n",
    "ftx = ccxt.ftx(ftx_secret)\n",
    "pd.DataFrame(ftx.fetch_balance()['info']['result'])"
   ]
  },
  {
   "cell_type": "code",
   "execution_count": null,
   "id": "06e4297f-d9dd-4b65-a522-69d9cf32e462",
   "metadata": {
    "tags": []
   },
   "outputs": [],
   "source": [
    "positions = pd.DataFrame(ftx.fetch_positions())\n",
    "print(positions.columns)\n",
    "positions[['symbol','notional',\n",
    "           'unrealizedPnl','contracts',\n",
    "           'markPrice', 'percentage', 'liquidationPrice',\n",
    "           'side',\n",
    "          ]]"
   ]
  },
  {
   "cell_type": "code",
   "execution_count": null,
   "id": "76db3827-891d-41f7-997f-d9df14e7f244",
   "metadata": {},
   "outputs": [],
   "source": [
    "ftx.fetch_open_orders()"
   ]
  },
  {
   "cell_type": "code",
   "execution_count": null,
   "id": "88276aa2-0293-42ff-bb3a-52e27be12c57",
   "metadata": {},
   "outputs": [],
   "source": [
    "ftx.createLimitOrder('XXX-PERP', 'sell', 40.8, 231.31)#, params={'postOnly':True})"
   ]
  },
  {
   "cell_type": "code",
   "execution_count": null,
   "id": "397a60ac-14e8-4968-b9d6-d24ae925d011",
   "metadata": {},
   "outputs": [],
   "source": [
    "ftx.cancelAllOrders()"
   ]
  },
  {
   "cell_type": "code",
   "execution_count": null,
   "id": "e4e24105-3c9a-4dbe-88c3-9dd72bc23d04",
   "metadata": {},
   "outputs": [],
   "source": [
    "pd.DataFrame(ftx.fetch_open_orders()).dropna(how='all',axis=1)"
   ]
  },
  {
   "cell_type": "code",
   "execution_count": null,
   "id": "e5dfdbb9-d92f-4f68-82fe-76fb8b887916",
   "metadata": {},
   "outputs": [],
   "source": [
    "mytrades = pd.DataFrame(ftx.fetch_my_trades())\n",
    "print(mytrades.columns)\n",
    "mytrades = mytrades[['datetime', 'symbol', 'takerOrMaker', 'side', 'amount', 'price', 'cost', 'fee']]\n",
    "mytrades.fee = mytrades.fee.apply(lambda x: x['cost'])\n",
    "mytrades"
   ]
  },
  {
   "cell_type": "code",
   "execution_count": null,
   "id": "7ee30fca-859b-457f-a135-bbc60ef81220",
   "metadata": {},
   "outputs": [],
   "source": [
    "# pd.DataFrame(ftx.fetch_funding_history())['rate'].plot() #todo :/"
   ]
  }
 ],
 "metadata": {
  "kernelspec": {
   "display_name": "Python 3 (ipykernel)",
   "language": "python",
   "name": "python3"
  },
  "language_info": {
   "codemirror_mode": {
    "name": "ipython",
    "version": 3
   },
   "file_extension": ".py",
   "mimetype": "text/x-python",
   "name": "python",
   "nbconvert_exporter": "python",
   "pygments_lexer": "ipython3",
   "version": "3.9.8"
  }
 },
 "nbformat": 4,
 "nbformat_minor": 5
}
