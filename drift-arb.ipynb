{
 "cells": [
  {
   "cell_type": "code",
   "execution_count": null,
   "id": "7deb5c78-b530-4585-99b6-8f8b24c73744",
   "metadata": {},
   "outputs": [],
   "source": [
    "%reload_ext autoreload\n",
    "%autoreload 2\n",
    "\n",
    "from drift.drift import Drift\n",
    "from drift.ftx import ftx_trade_to_target_position, recent_ftx_trades"
   ]
  },
  {
   "cell_type": "code",
   "execution_count": null,
   "id": "8ee4d0d5-488f-4908-aff3-383c2049225b",
   "metadata": {},
   "outputs": [],
   "source": [
    "# recent_ftx_trades()"
   ]
  },
  {
   "cell_type": "code",
   "execution_count": null,
   "id": "b30964a9-56e3-410c-a641-5ca64c041f5f",
   "metadata": {},
   "outputs": [],
   "source": [
    "USER_AUTHORITY = '' # TODO: fill with a target user authority (wallet public key)"
   ]
  },
  {
   "cell_type": "code",
   "execution_count": null,
   "id": "d9768ffa-7f5d-48d0-b378-2a6a1e87e988",
   "metadata": {
    "scrolled": true,
    "tags": []
   },
   "outputs": [],
   "source": [
    "drift = Drift(USER_AUTHORITY)\n",
    "await drift.load()\n",
    "arbJ_position = drift.bot_position.positions[0].baseAssetAmount/1e13\n",
    "arb_amount = drift.base_asset_imbalance() - arbJ_position\n",
    "print(arb_amount, arbJ_position)\n",
    "ftx_trade_to_target_position(arb_amount, 30)"
   ]
  },
  {
   "cell_type": "code",
   "execution_count": null,
   "id": "6da473ce-6a33-46e0-96f4-0ff85e7da50b",
   "metadata": {
    "tags": []
   },
   "outputs": [],
   "source": [
    "import time\n",
    "prev_arb_amount = None\n",
    "\n",
    "while 1:\n",
    "    await drift.load()\n",
    "    arbJ_position = drift.bot_position.positions[0].baseAssetAmount/1e13\n",
    "    arb_amount = drift.base_asset_imbalance() - arbJ_position\n",
    "    \n",
    "    if prev_arb_amount is not None and prev_arb_amount != arb_amount:\n",
    "        #double check for now\n",
    "        await drift.load()\n",
    "        arbJ_position = drift.bot_position.positions[0].baseAssetAmount/1e13\n",
    "        arb_amount2 = drift.base_asset_imbalance() - arbJ_position\n",
    "        if arb_amount2 != prev_arb_amount and arb_amount2 == arb_amount:        \n",
    "            ftx_trade_to_target_position(arb_amount)\n",
    "            \n",
    "    prev_arb_amount = arb_amount\n",
    "    \n",
    "    # print('sleeping fox')\n",
    "    time.sleep(5)"
   ]
  },
  {
   "cell_type": "code",
   "execution_count": null,
   "id": "c51c8f77-8bfa-43fa-8bfb-1debc9aa19f1",
   "metadata": {},
   "outputs": [],
   "source": []
  },
  {
   "cell_type": "code",
   "execution_count": null,
   "id": "ceaa01c7-937d-4e3b-9dbc-62966183c058",
   "metadata": {},
   "outputs": [],
   "source": []
  }
 ],
 "metadata": {
  "kernelspec": {
   "display_name": "Python 3 (ipykernel)",
   "language": "python",
   "name": "python3"
  },
  "language_info": {
   "codemirror_mode": {
    "name": "ipython",
    "version": 3
   },
   "file_extension": ".py",
   "mimetype": "text/x-python",
   "name": "python",
   "nbconvert_exporter": "python",
   "pygments_lexer": "ipython3",
   "version": "3.9.8"
  }
 },
 "nbformat": 4,
 "nbformat_minor": 5
}
